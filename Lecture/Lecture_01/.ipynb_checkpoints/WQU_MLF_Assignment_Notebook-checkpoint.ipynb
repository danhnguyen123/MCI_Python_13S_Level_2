{
 "cells": [
  {
   "cell_type": "markdown",
   "metadata": {},
   "source": [
    "# Peer Review Assignment 1\n",
    "\n",
    "Name: \n",
    "\n",
    "Date: \n"
   ]
  },
  {
   "cell_type": "markdown",
   "metadata": {},
   "source": [
    "## Instructions\n",
    "* Work through the notebook, answer all questions, and do all problems\n",
    "* You are allowed to consult the internet, and discuss on the module forum\n",
    "* Your answers and solutions to the problems should be added to this notebook \n",
    "* Submit your final work as an html file\n",
    "* Note that the solutions to the problems used python version 3.6.4. \n",
    "* Hint: In this assignment you work with a single linear regression problem where you generate data yourself. This means that you have an idea of what the computed solution should look like. \n",
    "\n",
    "## Marking Scheme (Theoretical Questions)\n",
    "* All questions are marked out of 3.\n",
    "* No valid answer: 0 marks\n",
    "* Demonstration of grasp of basic idea: 1 mark\n",
    "* 'Perfect' answer: 3 marks\n",
    "\n",
    "## Marking Scheme (Practical Problems)\n",
    "* All problems are marked out of 5.\n",
    "* No valid answer: 0 marks\n",
    "* Demonstration of grasp of basic idea: 2 mark\n",
    "* Working code: 5 marks\n",
    "---"
   ]
  },
  {
   "cell_type": "markdown",
   "metadata": {},
   "source": [
    "# Regression\n",
    "\n",
    "Let's start with the simplest possible regression problem: Solve the following system of linear equations,\n",
    "\n",
    "$$\n",
    "x = 1.0\\\\\n",
    "x = 0.5\\\\\n",
    "x = 0.7\\\\\n",
    "$$\n",
    "At first glance this does not make sense, how can $x$ take on different values than these? In practice however, this happens all the time. Think of the situation where you measure a quantity multiple times; every time you measure - a slightly different value - just as in the equations above. This is a simple example of an over-determined system.\n",
    "\n",
    "---\n",
    "Answer the following questions (all calculations should be done by hand, written here in latex):"
   ]
  },
  {
   "cell_type": "markdown",
   "metadata": {},
   "source": [
    "### Questions 1:\n",
    "\n",
    "1.1) Write the system above as a *linear* system of equation of the form $Ax = b$. <br> **Answer (3 marks):**"
   ]
  },
  {
   "cell_type": "markdown",
   "metadata": {},
   "source": [
    "Assume **A is a matrix as following** $$ A = \\begin{bmatrix} 1 & 1 & 2 \\\\ 3 & 4 & 7 \\\\ -3 & -2 & 6 \\end{bmatrix}$$\n",
    "\n",
    "The linear system of equation as following:\n",
    "\n",
    "$$\\begin{bmatrix} 1 & 1 & 2 \\\\ 3 & 4 & 7 \\\\ -3 & -2 & 6 \\end{bmatrix}*x = \\begin{bmatrix} 1.0  \\\\ 0.5 \\\\ 0.7 \\end{bmatrix}$$"
   ]
  },
  {
   "cell_type": "markdown",
   "metadata": {},
   "source": [
    "1.2) Write down the normal equations, $A^TA x = A^T b$ for this system.<br>\n",
    "   **Answer (3 marks):**"
   ]
  },
  {
   "cell_type": "markdown",
   "metadata": {},
   "source": [
    "$$\\begin{bmatrix} 1 & 3 & -3 \\\\ 1 & 4 & -2 \\\\ 2 & 7 & 6 \\end{bmatrix}* \\begin{bmatrix} 1 & 1 & 2 \\\\ 3 & 4 & 7 \\\\ -3 & -2 & 6 \\end{bmatrix}*x = \\begin{bmatrix} 1 & 3 & -3 \\\\ 1 & 4 & -2 \\\\ 2 & 7 & 6 \\end{bmatrix}*\\begin{bmatrix} 1.0  \\\\ 0.5 \\\\ 0.7 \\end{bmatrix}$$"
   ]
  },
  {
   "cell_type": "markdown",
   "metadata": {},
   "source": [
    "1.3) Solve the system of normal equations for the system above. Is there an intuitive interpretation of the solution \n",
    "\n",
    "**Answer (3 marks):**"
   ]
  },
  {
   "cell_type": "markdown",
   "metadata": {},
   "source": [
    "$$\\begin{bmatrix} 19 & 19 & 5 \\\\ 19 & 21 & 18 \\\\ 5 & 18 & 89 \\end{bmatrix} * x = \\begin{bmatrix} 0.4 \\\\ 1.6 \\\\ 9.7 \\end{bmatrix}$$\n",
    "\n",
    "$$x = \\begin{bmatrix} 2.9364  \\\\ -3.0636 \\\\ 0.5636 \\end{bmatrix}$$\n",
    "\n",
    "- Is there an intuitive interpretation of the solution: **Yes**"
   ]
  },
  {
   "cell_type": "code",
   "execution_count": 1,
   "metadata": {},
   "outputs": [
    {
     "data": {
      "text/plain": [
       "array([ 2.93636364, -3.06363636,  0.56363636])"
      ]
     },
     "execution_count": 1,
     "metadata": {},
     "output_type": "execute_result"
    }
   ],
   "source": [
    "# The code \n",
    "import numpy as np\n",
    "a = np.array([[1, 1, 2], [3, 4, 7], [-3, -2, 6]])\n",
    "b = np.array([1.0, 0.5, 0.7])\n",
    "a_normal = np.dot(a.T, a)\n",
    "b_normal = np.dot(a.T, b)\n",
    "x = np.dot(np.linalg.inv(a_normal), b_normal)\n",
    "x"
   ]
  },
  {
   "cell_type": "markdown",
   "metadata": {},
   "source": [
    "---\n",
    "Let's now revisit the well-known linear regression problem. We'll first formulate it as the solution of an over-determined system, and then as an optimisation problem. For this example we'll use the computer to solve the problem.\n",
    "\n",
    "We are given data in the form of $(x,y)$ pairs and we know that, given $x$, that $y = mx +c$. Since one can fit a straight line through two points, we only need two pairs to fit a line. But there is a rub, the $y$ values are contaminated by noise (at this point you may want to look at the example below), and it is not possible to find a single line that will pass through all points. We therefore need to find the line that best fits the given values. We'll lead you through the solution.\n",
    "\n",
    "Given $(x_n,y_n),\\;\\;n=1,\\ldots,N$, we need to solve for $m$ and $b$ from\n",
    "$$\n",
    "mx_n +b = y_n, \\;\\;n=1,\\ldots,N.\n",
    "$$"
   ]
  },
  {
   "cell_type": "markdown",
   "metadata": {},
   "source": [
    "---\n",
    "### Questions 2:\n",
    "\n",
    "2.1) Write this as a linear system where the unknowns are $m$ and $b$.<br>\n",
    "   **Answer (3 marks):**"
   ]
  },
  {
   "cell_type": "markdown",
   "metadata": {},
   "source": [
    "Assume that: $$x = \\begin{bmatrix} 2\\\\ 1 \\end{bmatrix}$$ $$y = \\begin{bmatrix} 3\\\\ 6 \\end{bmatrix}$$\n",
    "\n",
    "Then the linear system writes as:\n",
    "\n",
    "$$m * \\begin{bmatrix} 2\\\\ 1 \\end{bmatrix} + b = \\begin{bmatrix} 3\\\\ 6 \\end{bmatrix}$$"
   ]
  },
  {
   "cell_type": "markdown",
   "metadata": {},
   "source": [
    "2.2) Write down, and solve the normal equations for the unknows $m$ and $b$.<br>\n",
    "   **Answer (3 marks):**"
   ]
  },
  {
   "cell_type": "markdown",
   "metadata": {},
   "source": [
    "$$\\begin{cases}\n",
    "               2m + b = 3\\\\\n",
    "               m + b = 6\n",
    "            \\end{cases}  => \n",
    "            \\begin{cases}\n",
    "               m = -3\\\\\n",
    "               b = 9\n",
    "            \\end{cases}\n",
    "$$"
   ]
  },
  {
   "cell_type": "markdown",
   "metadata": {},
   "source": [
    "Next we treat this as an optimisation problem. Instead of using the normal equations, we now look for $m$ and $b$ that minimises the mean squared error,\n",
    "$$\n",
    "E = \\frac1N\\sum_{n=1}^N (mx_n + b - y_n)^2.\n",
    "$$"
   ]
  },
  {
   "cell_type": "markdown",
   "metadata": {},
   "source": [
    "---\n",
    "\n",
    "### Questions 3:\n",
    "\n",
    "3.1) Write down the equations $\\frac{\\partial E}{\\partial m} = 0$ and $\\frac{\\partial E}{\\partial b} =0$.<br>\n",
    "   **Answer (3 marks):**"
   ]
  },
  {
   "cell_type": "markdown",
   "metadata": {},
   "source": [
    "$$\\frac{\\partial E}{\\partial m} = \\frac{2}N \\sum_{n=1}^N x_n(mx_n + b -y_n) = 0$$\n",
    "$$\\frac{\\partial E}{\\partial b} = \\frac{2}N \\sum_{n=1}^N(mx_n + b -y_n) = 0$$"
   ]
  },
  {
   "cell_type": "markdown",
   "metadata": {},
   "source": [
    "3.2) Write the equations as a linear system, and solve for $m$ and $b$. How does your answer compare with the answer you obtained above?<br>\n",
    "   **Answer (3 marks):**<br>"
   ]
  },
  {
   "cell_type": "markdown",
   "metadata": {},
   "source": [
    "$$\\frac{\\partial E}{\\partial m} = 0 <=> 5m + 3b = 12$$\n",
    "$$\\frac{\\partial E}{\\partial b} = 0 <=> 3m + 2b= 9$$\n",
    "\n",
    "Then we have system of equations:\n",
    "$$\\begin{cases}\n",
    "               5m + 3b = 12\\\\\n",
    "               3m + 2b = 9\n",
    "            \\end{cases}  => \n",
    "            \\begin{cases}\n",
    "               m = -3\\\\\n",
    "               b = 9\n",
    "            \\end{cases}\n",
    "$$\n",
    "**The answers are the same to the question 2.2**"
   ]
  },
  {
   "cell_type": "markdown",
   "metadata": {},
   "source": [
    "It should be clear that these are the same as the normal equations."
   ]
  },
  {
   "cell_type": "markdown",
   "metadata": {},
   "source": [
    "---"
   ]
  },
  {
   "cell_type": "markdown",
   "metadata": {},
   "source": [
    "We now apply these ideas to a numerical problem. First we need to import a few models"
   ]
  },
  {
   "cell_type": "code",
   "execution_count": 2,
   "metadata": {},
   "outputs": [],
   "source": [
    "# This ensures that any graphs we generate will be part of the notebook, instead of\n",
    "# opening in a separate window\n",
    "%matplotlib inline "
   ]
  },
  {
   "cell_type": "code",
   "execution_count": 3,
   "metadata": {},
   "outputs": [],
   "source": [
    "import numpy as np # import the numerical linear algebra module\n",
    "from matplotlib import pyplot as plt"
   ]
  },
  {
   "cell_type": "markdown",
   "metadata": {},
   "source": [
    "## Generate and display data.\n",
    "In the code block below we generate data with a linear relationship and then plot."
   ]
  },
  {
   "cell_type": "code",
   "execution_count": 4,
   "metadata": {},
   "outputs": [
    {
     "data": {
      "image/png": "[encoded data removed]",
      "text/plain": [
       "<Figure size 432x288 with 1 Axes>"
      ]
     },
     "metadata": {
      "needs_background": "light"
     },
     "output_type": "display_data"
    }
   ],
   "source": [
    "x_train = np.linspace(0,1,100)\n",
    "y_train = 0.2*x_train + 1 + 0.01*np.random.randn(x_train.shape[0])\n",
    "\n",
    "plt.plot(x_train, y_train, 'r.')\n",
    "plt.show()"
   ]
  },
  {
   "cell_type": "markdown",
   "metadata": {},
   "source": [
    "### Problem 1: Find $m$ and $b$ using numpy\n",
    "\n",
    "1. Using numpy, create $A$ and $b$ for the system $Ax=b$ (here $x$ is the vector containing the unknown weight $w$ and offset $b$). <br> ** Answer (5 marks) **\n",
    "\n",
    "2. Solve the normal equations for $m$ and $b$. <br> **Answer (5 marks)**\n"
   ]
  },
  {
   "cell_type": "code",
   "execution_count": 5,
   "metadata": {},
   "outputs": [
    {
     "name": "stdout",
     "output_type": "stream",
     "text": [
      "0.20405666746731388 0.9995133705686214\n"
     ]
    }
   ],
   "source": [
    "b = np.array([x_train]).T# hint: np.asarray()\n",
    "col2 = np.ones((b.shape[0], 1))# hint: np.ones()\n",
    "A = np.concatenate((col2, b), axis=1)# hint: np.vstack().T\n",
    "\n",
    "# Your code here\n",
    "# Normal equations\n",
    "A_normal = np.dot(A.T, A)\n",
    "b_normal = np.dot(A.T, y_train)\n",
    "w = np.dot(np.linalg.pinv(A_normal), b_normal)\n",
    "# Solve\n",
    "m, b = w[1], w[0]\n",
    "\n",
    "# End of your code\n",
    "\n",
    "# The computed values of m and b should be compared with the values\n",
    "# m = 0.2 and b = 1.0, used to generate the data\n",
    "print(m, b)"
   ]
  },
  {
   "cell_type": "markdown",
   "metadata": {},
   "source": [
    "---"
   ]
  },
  {
   "cell_type": "markdown",
   "metadata": {},
   "source": [
    "### Question 4:\n",
    "1. Why do the numerical values differ from the values used to generate the data?\n",
    "<br> **Answer (3 marks):**"
   ]
  },
  {
   "cell_type": "markdown",
   "metadata": {},
   "source": [
    "Because the generate data using random noise, this noise is irreducible noise. "
   ]
  },
  {
   "cell_type": "markdown",
   "metadata": {},
   "source": [
    "---\n",
    "## Using normal equations is numerically unstable\n",
    "\n",
    "Although it does not matter much for the simple example above, in general it is bad practice to use the normal equations to solve the least squares problem. Surprisingly enough, the culprit is the *covariance* matrix $A^TA$. We cannot compute it in a numerically stable fashion. Technically, its condition number is roughly the square of the condition number of $A$ and in practice this means that we loose roughly half the precision if we calculate the covariance matrix.\n",
    "\n",
    "A full discussion is beyond the scope of the course, but the interested reader is encouraged to consult, Lloyd N. Trefethen and David Bau, III. NUMERICAL LINEAR ALGEBRA, SIAM 1997.\n",
    "\n",
    "A numerical stable way of solving the linear least squares problem is to first do a $QR$ factorization of $A$. If $A$ is an $m\\times n$ dimensional array with $m>n$ (more equations than unknowns), then the $QR$ factorization is given by\n",
    "$$\n",
    "A = QR,\n",
    "$$\n",
    "where $Q$ is an $m\\times n$ matrix with orthogonal columns, i.e. $Q^TQ=I$, and $R$ is an $n\\times n$ upper triangular matrix. Assuming that $A$ has full rank, i.e. its columns are linearly independent, then it can be shown that $R$ is non-singular. One has to take some care, but there are a number of numerically stable algorithms to compute the $QR$ factorisation. \n",
    "\n",
    "Let's now substitute the $A=QR$ in the normal equations,\n",
    "$$\n",
    "(QR)^T QR x = (QR)^T b.\n",
    "$$\n",
    "Taking the orthogonality of $Q$ and the non-singularity of $R$ into account, this equation boils down to\n",
    "$$\n",
    "Rx = Q^Tb.\n",
    "$$\n",
    "Since $R$ is non-singular and upper traingular, this system is easily and efficiently solved.\n",
    "\n",
    "What has happened here? After we calculated the $QR$ algorithm in a stable manner, we did many of the calculations analytically (using $Q^TQ=I$ and cancelling $R^T$ from both sides), and that is done with infinite precision!"
   ]
  },
  {
   "cell_type": "markdown",
   "metadata": {},
   "source": [
    "---\n",
    "### Problem 2:\n",
    "1. Solve the linear least squares problem using the $QR$ factorization. With numpy. <br> ** Ansewr (5 marks):**"
   ]
  },
  {
   "cell_type": "code",
   "execution_count": 6,
   "metadata": {},
   "outputs": [
    {
     "name": "stdout",
     "output_type": "stream",
     "text": [
      "(100, 2) \n",
      "\n",
      "R =  [[-10.          -5.        ]\n",
      " [  0.           2.91576465]] \n",
      "\n",
      "Q^TQ =  [[ 1.00000000e+00 -9.27858681e-18]\n",
      " [-9.27858681e-18  1.00000000e+00]]\n",
      "0.20405666746731388 0.9995133705686214\n"
     ]
    }
   ],
   "source": [
    "# Your code here\n",
    "Q, R = np.linalg.qr(A)\n",
    "# End of your code\n",
    "\n",
    "print(Q.shape, '\\n')\n",
    "print('R = ', R, '\\n')\n",
    "print('Q^TQ = ', np.dot(Q.T,Q))\n",
    "print(m, b)"
   ]
  },
  {
   "cell_type": "code",
   "execution_count": 7,
   "metadata": {},
   "outputs": [
    {
     "name": "stdout",
     "output_type": "stream",
     "text": [
      "0.2040566674673153 0.9995133705686202\n"
     ]
    }
   ],
   "source": [
    "# Your code here\n",
    "b_normal = np.dot(Q.T, y_train)\n",
    "w = np.dot(np.linalg.pinv(R), b_normal)\n",
    "m, b = w[1], w[0]\n",
    "# End of your code\n",
    "\n",
    "print(m,b)"
   ]
  },
  {
   "cell_type": "markdown",
   "metadata": {},
   "source": [
    "# Solve using scikit-learn\n",
    "\n",
    "First we need to import the necessary module from scikit-learn"
   ]
  },
  {
   "cell_type": "code",
   "execution_count": 8,
   "metadata": {},
   "outputs": [],
   "source": [
    "# Import modules from sklearn\n",
    "from sklearn.linear_model import  LinearRegression"
   ]
  },
  {
   "cell_type": "markdown",
   "metadata": {},
   "source": [
    "## Problem 3:\n",
    "\n",
    "1. Solve the linear least squares problem using sklearn. <br> ** Answer (5 marks):**"
   ]
  },
  {
   "cell_type": "code",
   "execution_count": 9,
   "metadata": {},
   "outputs": [
    {
     "data": {
      "text/plain": [
       "(0.20405666746731577, 0.9995133705686203)"
      ]
     },
     "execution_count": 9,
     "metadata": {},
     "output_type": "execute_result"
    }
   ],
   "source": [
    "# Fit the data to the model\n",
    "linear_regression = LinearRegression().fit(np.array([x_train]).T, y_train)\n",
    "\n",
    "# Print the weight and offset. The values are the same as from the normal equations.\n",
    "(linear_regression.coef_[0], linear_regression.intercept_)"
   ]
  },
  {
   "cell_type": "markdown",
   "metadata": {},
   "source": [
    "# Using Keras\n",
    "\n",
    "First import the necessary modules from keras"
   ]
  },
  {
   "cell_type": "code",
   "execution_count": 10,
   "metadata": {},
   "outputs": [
    {
     "name": "stderr",
     "output_type": "stream",
     "text": [
      "Using TensorFlow backend.\n"
     ]
    }
   ],
   "source": [
    "from keras.models import Sequential\n",
    "from keras.layers import Dense\n",
    "from keras.optimizers import Adam"
   ]
  },
  {
   "cell_type": "markdown",
   "metadata": {},
   "source": [
    "## Problem 4:\n",
    "\n",
    "1. Solve the linear least squares problem using keras. <br> ** Answer (5 marks):**\n",
    "2. Use the Adam optimiser and experiment with different learning rates. <br> ** Answer (5 marks):**\n",
    "\n",
    "**Note:** You should find everything you need on the internet\n",
    "* https://keras.io/getting-started/sequential-model-guide/\n",
    "* https://keras.io/optimizers/\n",
    "* https://keras.io/models/sequential/"
   ]
  },
  {
   "cell_type": "markdown",
   "metadata": {},
   "source": [
    "1. Solve the linear least squares problem using keras."
   ]
  },
  {
   "cell_type": "code",
   "execution_count": 11,
   "metadata": {},
   "outputs": [
    {
     "data": {
      "text/plain": [
       "<keras.callbacks.callbacks.History at 0x7f87d471cf50>"
      ]
     },
     "execution_count": 11,
     "metadata": {},
     "output_type": "execute_result"
    }
   ],
   "source": [
    "model = Sequential()\n",
    "model.add(Dense(1, input_dim=1, kernel_initializer='normal', activation='linear'))\n",
    "\n",
    "# Compile model\n",
    "model.compile(loss='mean_squared_error', optimizer='adam', metrics=['mse'])\n",
    "\n",
    "# Fit model: use a batch_size=20, epochs=300\n",
    "model.fit(x=np.array([x_train]).T, y=y_train, batch_size=1, epochs=200, verbose=0)"
   ]
  },
  {
   "cell_type": "code",
   "execution_count": 12,
   "metadata": {},
   "outputs": [
    {
     "data": {
      "text/plain": [
       "(0.20434223, 1.0011562)"
      ]
     },
     "execution_count": 12,
     "metadata": {},
     "output_type": "execute_result"
    }
   ],
   "source": [
    "# Print model weights, might not be exactly the same as above.\n",
    "(model.get_weights()[0][0][0], model.get_weights()[1][0])"
   ]
  },
  {
   "cell_type": "markdown",
   "metadata": {},
   "source": [
    "2. Use the Adam optimiser and experiment with different learning rates."
   ]
  },
  {
   "cell_type": "code",
   "execution_count": 13,
   "metadata": {},
   "outputs": [
    {
     "data": {
      "text/plain": [
       "<keras.callbacks.callbacks.History at 0x7f87d467e8d0>"
      ]
     },
     "execution_count": 13,
     "metadata": {},
     "output_type": "execute_result"
    }
   ],
   "source": [
    "model = Sequential()\n",
    "model.add(Dense(1, input_dim=1, kernel_initializer='normal', activation='linear'))\n",
    "adam = Adam(learning_rate=0.001)\n",
    "# Compile model\n",
    "model.compile(loss='mean_squared_error', optimizer=adam, metrics=['mse'])\n",
    "\n",
    "# Fit model: use a batch_size=20, epochs=300\n",
    "model.fit(x=np.array([x_train]).T, y=y_train, batch_size=1, epochs=200, verbose=0)"
   ]
  },
  {
   "cell_type": "code",
   "execution_count": 14,
   "metadata": {},
   "outputs": [
    {
     "data": {
      "text/plain": [
       "(0.20427041, 1.0001609)"
      ]
     },
     "execution_count": 14,
     "metadata": {},
     "output_type": "execute_result"
    }
   ],
   "source": [
    "(model.get_weights()[0][0][0], model.get_weights()[1][0])"
   ]
  }
 ],
 "metadata": {
  "kernelspec": {
   "display_name": "Python 3",
   "language": "python",
   "name": "python3"
  },
  "language_info": {
   "codemirror_mode": {
    "name": "ipython",
    "version": 3
   },
   "file_extension": ".py",
   "mimetype": "text/x-python",
   "name": "python",
   "nbconvert_exporter": "python",
   "pygments_lexer": "ipython3",
   "version": "3.7.6"
  }
 },
 "nbformat": 4,
 "nbformat_minor": 4
}
