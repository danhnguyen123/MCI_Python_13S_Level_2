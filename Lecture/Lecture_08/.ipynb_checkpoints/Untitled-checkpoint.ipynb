{
 "cells": [
  {
   "cell_type": "code",
   "execution_count": 67,
   "metadata": {},
   "outputs": [],
   "source": [
    "import tensorflow as tf\n",
    "from tensorflow.keras.layers import Input, Dense\n",
    "from tensorflow.keras.models import Sequential\n",
    "from sklearn.datasets import load_iris, load_digits\n",
    "import pandas as pd\n",
    "import numpy as np\n",
    "import matplotlib.pyplot as plt"
   ]
  },
  {
   "cell_type": "code",
   "execution_count": 68,
   "metadata": {},
   "outputs": [],
   "source": [
    "data = load_digits()"
   ]
  },
  {
   "cell_type": "code",
   "execution_count": 70,
   "metadata": {},
   "outputs": [],
   "source": [
    "X_train, y_train = data['data'], data['target']"
   ]
  },
  {
   "cell_type": "code",
   "execution_count": 76,
   "metadata": {},
   "outputs": [
    {
     "data": {
      "image/png": "[encoded data removed]",
      "text/plain": [
       "<Figure size 432x288 with 1 Axes>"
      ]
     },
     "metadata": {
      "needs_background": "light"
     },
     "output_type": "display_data"
    }
   ],
   "source": [
    "plt.imshow(X_train[0].reshape(-1, 8));"
   ]
  },
  {
   "cell_type": "code",
   "execution_count": 84,
   "metadata": {},
   "outputs": [],
   "source": [
    "y_train = pd.get_dummies(y_train)"
   ]
  },
  {
   "cell_type": "code",
   "execution_count": 85,
   "metadata": {},
   "outputs": [
    {
     "name": "stdout",
     "output_type": "stream",
     "text": [
      "Model: \"sequential_19\"\n",
      "_________________________________________________________________\n",
      "Layer (type)                 Output Shape              Param #   \n",
      "=================================================================\n",
      "dense_37 (Dense)             (None, 5)                 325       \n",
      "_________________________________________________________________\n",
      "dense_38 (Dense)             (None, 10)                60        \n",
      "=================================================================\n",
      "Total params: 385\n",
      "Trainable params: 385\n",
      "Non-trainable params: 0\n",
      "_________________________________________________________________\n",
      "Train on 1437 samples, validate on 360 samples\n",
      "Epoch 1/20\n",
      "1437/1437 [==============================] - 0s 316us/sample - loss: 2.2844 - acc: 0.1183 - val_loss: 2.2263 - val_acc: 0.1472\n",
      "Epoch 2/20\n",
      "1437/1437 [==============================] - 0s 62us/sample - loss: 2.2077 - acc: 0.1503 - val_loss: 2.1540 - val_acc: 0.1694\n",
      "Epoch 3/20\n",
      "1437/1437 [==============================] - 0s 49us/sample - loss: 2.1246 - acc: 0.2394 - val_loss: 2.0734 - val_acc: 0.2917\n",
      "Epoch 4/20\n",
      "1437/1437 [==============================] - 0s 56us/sample - loss: 2.0388 - acc: 0.2909 - val_loss: 1.9996 - val_acc: 0.3611\n",
      "Epoch 5/20\n",
      "1437/1437 [==============================] - 0s 55us/sample - loss: 1.9653 - acc: 0.3598 - val_loss: 1.9381 - val_acc: 0.4222\n",
      "Epoch 6/20\n",
      "1437/1437 [==============================] - 0s 57us/sample - loss: 1.9038 - acc: 0.4134 - val_loss: 1.8844 - val_acc: 0.4333\n",
      "Epoch 7/20\n",
      "1437/1437 [==============================] - 0s 58us/sample - loss: 1.8503 - acc: 0.4489 - val_loss: 1.8397 - val_acc: 0.4694\n",
      "Epoch 8/20\n",
      "1437/1437 [==============================] - 0s 54us/sample - loss: 1.8007 - acc: 0.4948 - val_loss: 1.7974 - val_acc: 0.4778\n",
      "Epoch 9/20\n",
      "1437/1437 [==============================] - 0s 62us/sample - loss: 1.7558 - acc: 0.5400 - val_loss: 1.7565 - val_acc: 0.5333\n",
      "Epoch 10/20\n",
      "1437/1437 [==============================] - 0s 52us/sample - loss: 1.7112 - acc: 0.5672 - val_loss: 1.7155 - val_acc: 0.5361\n",
      "Epoch 11/20\n",
      "1437/1437 [==============================] - 0s 121us/sample - loss: 1.6655 - acc: 0.5713 - val_loss: 1.6608 - val_acc: 0.5361\n",
      "Epoch 12/20\n",
      "1437/1437 [==============================] - 0s 64us/sample - loss: 1.6077 - acc: 0.5894 - val_loss: 1.6196 - val_acc: 0.5639\n",
      "Epoch 13/20\n",
      "1437/1437 [==============================] - 0s 61us/sample - loss: 1.5627 - acc: 0.6068 - val_loss: 1.5855 - val_acc: 0.5889\n",
      "Epoch 14/20\n",
      "1437/1437 [==============================] - 0s 60us/sample - loss: 1.5226 - acc: 0.6249 - val_loss: 1.5532 - val_acc: 0.5889\n",
      "Epoch 15/20\n",
      "1437/1437 [==============================] - 0s 68us/sample - loss: 1.4856 - acc: 0.6347 - val_loss: 1.5204 - val_acc: 0.6472\n",
      "Epoch 16/20\n",
      "1437/1437 [==============================] - 0s 59us/sample - loss: 1.4505 - acc: 0.6820 - val_loss: 1.4907 - val_acc: 0.6389\n",
      "Epoch 17/20\n",
      "1437/1437 [==============================] - 0s 71us/sample - loss: 1.4174 - acc: 0.6813 - val_loss: 1.4634 - val_acc: 0.6472\n",
      "Epoch 18/20\n",
      "1437/1437 [==============================] - 0s 70us/sample - loss: 1.3851 - acc: 0.6889 - val_loss: 1.4304 - val_acc: 0.6444\n",
      "Epoch 19/20\n",
      "1437/1437 [==============================] - 0s 67us/sample - loss: 1.3549 - acc: 0.6938 - val_loss: 1.4078 - val_acc: 0.6472\n",
      "Epoch 20/20\n",
      "1437/1437 [==============================] - 0s 61us/sample - loss: 1.3277 - acc: 0.7022 - val_loss: 1.3778 - val_acc: 0.6556\n"
     ]
    }
   ],
   "source": [
    "model = Sequential()\n",
    "model.add(Dense(units=5, input_dim=X_train.shape[1], activation='sigmoid', kernel_initializer='glorot_normal'))\n",
    "model.add(Dense(units=10, activation='softmax'))\n",
    "model.compile(optimizer='Adam', loss='categorical_crossentropy', metrics=['accuracy'])\n",
    "model.summary()\n",
    "history = model.fit(X_train, y_train, epochs=20, validation_split=0.2)"
   ]
  },
  {
   "cell_type": "code",
   "execution_count": 86,
   "metadata": {},
   "outputs": [
    {
     "data": {
      "image/png": "[encoded data removed]",
      "text/plain": [
       "<Figure size 432x288 with 1 Axes>"
      ]
     },
     "metadata": {
      "needs_background": "light"
     },
     "output_type": "display_data"
    }
   ],
   "source": [
    "plt.plot(history.history['loss'], label=\"loss\");"
   ]
  },
  {
   "cell_type": "code",
   "execution_count": 87,
   "metadata": {},
   "outputs": [
    {
     "data": {
      "image/png": "[encoded data removed]",
      "text/plain": [
       "<Figure size 432x288 with 1 Axes>"
      ]
     },
     "metadata": {
      "needs_background": "light"
     },
     "output_type": "display_data"
    }
   ],
   "source": [
    "plt.plot(history.history['acc'], label=\"acc\");"
   ]
  },
  {
   "cell_type": "code",
   "execution_count": null,
   "metadata": {},
   "outputs": [],
   "source": []
  }
 ],
 "metadata": {
  "kernelspec": {
   "display_name": "Python 3",
   "language": "python",
   "name": "python3"
  },
  "language_info": {
   "codemirror_mode": {
    "name": "ipython",
    "version": 3
   },
   "file_extension": ".py",
   "mimetype": "text/x-python",
   "name": "python",
   "nbconvert_exporter": "python",
   "pygments_lexer": "ipython3",
   "version": "3.6.10"
  }
 },
 "nbformat": 4,
 "nbformat_minor": 4
}
